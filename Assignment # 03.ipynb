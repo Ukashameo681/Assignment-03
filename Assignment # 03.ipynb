{
 "cells": [
  {
   "cell_type": "markdown",
   "id": "ff9af872",
   "metadata": {},
   "source": [
    "## Q1:  \n",
    "### Lists:  \n",
    "1. Create an empty list my_list.\n",
    "2. Append three elements to my_list using the append method.\n",
    "3. Insert an element at a specific position in my_list using the insert method.\n",
    "4. Remove an element from my_list using the remove method.\n",
    "5. Print the final state of my_list."
   ]
  },
  {
   "cell_type": "code",
   "execution_count": 4,
   "id": "71e29b82",
   "metadata": {},
   "outputs": [
    {
     "data": {
      "text/plain": [
       "[1, 2, 3]"
      ]
     },
     "execution_count": 4,
     "metadata": {},
     "output_type": "execute_result"
    }
   ],
   "source": [
    "# creating a list name my_list:\n",
    "my_list = []\n",
    "# now we use append function to input three values:\n",
    "my_list.append(1)\n",
    "my_list.append(2)\n",
    "my_list.append(3)\n",
    "# printing the my_list to check how many value in list:\n",
    "my_list\n",
    "# Now, we use the insert function to insert the value in spacific index:\n",
    "my_list.insert(1,5)\n",
    "# printing the my_list to check how many value in list:\n",
    "my_list\n",
    "# Now, we remove the spacfic element in the list:\n",
    "my_list.remove(5)\n",
    "# printing the my_list to check how many value in list:\n",
    "my_list"
   ]
  },
  {
   "cell_type": "markdown",
   "id": "96466497",
   "metadata": {},
   "source": [
    "## Q2.\n",
    "### Tuples:\n",
    "1. Create a tuple my_tuple with at least five elements.\n",
    "2. Use tuple unpacking to assign values to multiple variables.\n",
    "3. Concatenate two tuples and print the result.\n",
    "4. Access and print the elements of my_tuple using both positive and\n",
    "negative indexing.\n",
    "5. Perform any operation that demonstrates that tuples are immutable."
   ]
  },
  {
   "cell_type": "code",
   "execution_count": 14,
   "id": "b193ab23",
   "metadata": {},
   "outputs": [
    {
     "name": "stdout",
     "output_type": "stream",
     "text": [
      "1 2 3 4 5\n",
      "(12, 14, 15, 16, 14, 16, 17, 19)\n"
     ]
    },
    {
     "data": {
      "text/plain": [
       "2639390364416"
      ]
     },
     "execution_count": 14,
     "metadata": {},
     "output_type": "execute_result"
    }
   ],
   "source": [
    "# Now, creating Tuple with five elements:\n",
    "my_tuple = (1,2,3,4,5)\n",
    "# Now we are using tuple unpeaking to assign values of the Tuple:\n",
    "v1,v2,v3,v4,v5 = my_tuple\n",
    "# printing the my_tuple to find the values of the variables:\n",
    "print(v1,v2,v3,v4,v5)\n",
    "# now we creating two tuple and giving the values:\n",
    "my_tuple1 = (12,14,15,16)\n",
    "my_tuple2 = (14,16,17,19)\n",
    "# Now, we concatinate the tuples:\n",
    "my_tuple3 = my_tuple1+my_tuple2\n",
    "# Now, print:\n",
    "print(my_tuple3)\n",
    "# Now, Accessing the elements through the positive and negative:\n",
    "# Positive:\n",
    "my_tuple[1:4]\n",
    "# nagetive:\n",
    "my_tuple[-1:-4]\n",
    "# Now, we checking the tuple is mutable or immutable:\n",
    "id(my_tuple)\n",
    "my_tuple = (9,8,7,6,5)\n",
    "id(my_tuple)\n",
    "# the address of both tuples are the same that's why it is immutable"
   ]
  },
  {
   "cell_type": "markdown",
   "id": "5c8e1896",
   "metadata": {},
   "source": [
    "## Q3.\n",
    "### Input and Output:\n",
    "1. Prompt the user to enter their name using input.\n",
    "2. Print a welcome message using the entered name.\n",
    "3. Ask the user to input two numbers, convert them to integers, and\n",
    "calculate their sum and product.\n",
    "4. Display the results using formatted output."
   ]
  },
  {
   "cell_type": "code",
   "execution_count": null,
   "id": "7dd6e4ce",
   "metadata": {},
   "outputs": [],
   "source": [
    "# getting the input from the user:\n",
    "name = input(\"Enter your name: \")\n",
    "# printing the wellcome note for the user:\n",
    "print(f\"Welcome back to the coding: {name}\")\n",
    "# input 2 numbers from the user:\n",
    "val_1 = int(input(\"Enter your first number: \"))\n",
    "val_2 = int(input(\"Enter your second number: \"))\n",
    "# print the sum and product of the variables:\n",
    "print(\"The Sum of the val_1 and val_2 is \",val_1+val_2)\n",
    "print(\"The multiply of the val_1 and val_2 is \",val_1*val_2)"
   ]
  },
  {
   "cell_type": "markdown",
   "id": "b01e92db",
   "metadata": {},
   "source": [
    "## Q4.\n",
    "### Operators:\n",
    "1. Create a variable number and initialize it with an integer value.\n",
    "2. Use the modulus operator to check if the num is even or odd.\n",
    "3. Use a comparison operator to check if the num is greater than or equal\n",
    "to 10.\n",
    "4. Combine logical operators to create a complex condition and print the\n",
    "result."
   ]
  },
  {
   "cell_type": "code",
   "execution_count": null,
   "id": "d6df73cf",
   "metadata": {},
   "outputs": [],
   "source": [
    "# create a variable number:\n",
    "number = 33\n",
    "# now by combining all the logics and print the result:\n",
    "if number%2 == 0 && number>= 10:\n",
    "    print(f\"The {number} is Even and greater then equal to 10\")\n",
    "else:\n",
    "    print(f\"The {number} is not Even and greater then equal to 10\")"
   ]
  }
 ],
 "metadata": {
  "kernelspec": {
   "display_name": "Python 3 (ipykernel)",
   "language": "python",
   "name": "python3"
  },
  "language_info": {
   "codemirror_mode": {
    "name": "ipython",
    "version": 3
   },
   "file_extension": ".py",
   "mimetype": "text/x-python",
   "name": "python",
   "nbconvert_exporter": "python",
   "pygments_lexer": "ipython3",
   "version": "3.11.5"
  }
 },
 "nbformat": 4,
 "nbformat_minor": 5
}
